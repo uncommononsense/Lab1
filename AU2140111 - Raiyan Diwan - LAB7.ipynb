{
  "nbformat": 4,
  "nbformat_minor": 0,
  "metadata": {
    "colab": {
      "provenance": [],
      "collapsed_sections": []
    },
    "kernelspec": {
      "name": "python3",
      "display_name": "Python 3"
    },
    "language_info": {
      "name": "python"
    }
  },
  "cells": [
    {
      "cell_type": "markdown",
      "source": [
        "#Q1. Implement preoder, inorder and postorder traversal using stacks (not recursion).\n",
        "create an input file to read the graph, for e.g.:\n",
        "\n",
        "5, 1, 2 # 5's left child is 1, right child is 2\n",
        "\n",
        "1, 4, # 1's left child is 4\n",
        "\n",
        "2, , 9 # 2's right child is 9\n",
        "\n",
        "3, 6, 8\n",
        "\n",
        "You can use any alternative format for the graph file as well."
      ],
      "metadata": {
        "id": "ptMIVVtm9Jmw"
      }
    },
    {
      "cell_type": "code",
      "source": [
        "class Node:\n",
        "    def __init__(self, data):\n",
        "        self.data = data\n",
        "        self.left = None\n",
        "        self.right = None\n",
        "\n",
        "def preorder_tree(root):\n",
        "    stack = []\n",
        "    if root is None:\n",
        "        return\n",
        "    stack.append(root)\n",
        "    while len(stack) > 0:\n",
        "        root = stack.pop()\n",
        "        print(root.data, end = \" \")\n",
        "        if root.right != None:\n",
        "            stack.append(root.right)\n",
        "        if root.left != None:\n",
        "            stack.append(root.left)"
      ],
      "metadata": {
        "id": "lidjWLwhSFd6"
      },
      "execution_count": 11,
      "outputs": []
    },
    {
      "cell_type": "code",
      "source": [
        "root = Node(5)\n",
        "root.left = Node(1)\n",
        "root.right = Node(2)\n",
        "root.left.left = Node(4)\n",
        "root.right.right = Node(9)\n",
        "preorder_tree(root)"
      ],
      "metadata": {
        "colab": {
          "base_uri": "https://localhost:8080/"
        },
        "id": "Uusqa7LzTMQd",
        "outputId": "e4ae89e5-7fea-4beb-c881-8afb41a1679e"
      },
      "execution_count": 12,
      "outputs": [
        {
          "output_type": "stream",
          "name": "stdout",
          "text": [
            "5 1 4 2 9 "
          ]
        }
      ]
    },
    {
      "cell_type": "code",
      "source": [
        "class Node:\n",
        "    def __init__(self, data):\n",
        "        self.data = data\n",
        "        self.left = None\n",
        "        self.right = None\n",
        "\n",
        "def inorder_tree(root):\n",
        "    stack = []\n",
        "    while True:\n",
        "        if root != None:\n",
        "            stack.append(root)\n",
        "            root = root.left\n",
        "        elif stack:\n",
        "            root = stack.pop()\n",
        "            print(root.data, end = \" \")\n",
        "            root = root.right\n",
        "        else:\n",
        "            break"
      ],
      "metadata": {
        "id": "UGVqdJdzRbG_"
      },
      "execution_count": 13,
      "outputs": []
    },
    {
      "cell_type": "code",
      "source": [
        "root = Node(5)\n",
        "root.left = Node(1)\n",
        "root.right = Node(2)\n",
        "root.left.left = Node(4)\n",
        "root.right.right = Node(9)\n",
        "inorder_tree(root)"
      ],
      "metadata": {
        "colab": {
          "base_uri": "https://localhost:8080/"
        },
        "id": "n24bGJ6LR2uK",
        "outputId": "42cf56a6-915b-4556-ddc0-0a59da5ace07"
      },
      "execution_count": 14,
      "outputs": [
        {
          "output_type": "stream",
          "name": "stdout",
          "text": [
            "4 1 5 2 9 "
          ]
        }
      ]
    },
    {
      "cell_type": "code",
      "source": [
        "class Node:\n",
        "    def __init__(self, data):\n",
        "        self.data = data\n",
        "        self.left = None\n",
        "        self.right = None\n",
        "\n",
        "def postorder_tree(root):\n",
        "    stack = []\n",
        "    while True:\n",
        "        while root != None:\n",
        "            stack.append(root)\n",
        "            stack.append(root)\n",
        "            root = root.left\n",
        "        if len(stack) == 0:\n",
        "            return\n",
        "        root = stack.pop()\n",
        "        if len(stack) > 0 and stack[-1] == root:\n",
        "            root = root.right\n",
        "        else:\n",
        "            print(root.data, end = \" \")\n",
        "            root = None"
      ],
      "metadata": {
        "id": "z6WzWK5n2BNK"
      },
      "execution_count": 15,
      "outputs": []
    },
    {
      "cell_type": "code",
      "source": [
        "root = Node(5)\n",
        "root.left = Node(1)\n",
        "root.right = Node(2)\n",
        "root.left.left = Node(4)\n",
        "root.right.right = Node(9)\n",
        "postorder_tree(root)"
      ],
      "metadata": {
        "colab": {
          "base_uri": "https://localhost:8080/"
        },
        "id": "YMXI5INT2DTr",
        "outputId": "75fc69fc-6626-4c3a-f394-7db31176334e"
      },
      "execution_count": 16,
      "outputs": [
        {
          "output_type": "stream",
          "name": "stdout",
          "text": [
            "4 1 9 2 5 "
          ]
        }
      ]
    },
    {
      "cell_type": "markdown",
      "source": [
        "#Q2. Implement breadth first search on a tree (not necessarily binary).\n",
        "The input is given in a file with the following format:\n",
        "\n",
        "node node-nbr1 node-nbr2 node-nbr3 ...\n",
        "\n",
        "e.g.:\n",
        "\n",
        "5 1 2 3\n",
        "\n",
        "1 3\n",
        "\n",
        "2 6 7\n",
        "\n",
        "3 7 8 9"
      ],
      "metadata": {
        "id": "LBYH8EUs9ZK7"
      }
    },
    {
      "cell_type": "code",
      "source": [
        "class Queue:\n",
        "    def __init__(self):\n",
        "        self.elements = []\n",
        "\n",
        "    def enqueue(self, data):\n",
        "        self.elements.append(data)\n",
        "        return data\n",
        "\n",
        "    def dequeue(self):\n",
        "        return self.elements.pop(0)\n",
        "    \n",
        "    def rear(self):\n",
        "        return self.elements[-1]\n",
        "    \n",
        "    def front(self):\n",
        "        return self.elements[0]\n",
        "    \n",
        "    def is_empty(self):\n",
        "        return len(self.elements) == 0\n",
        "    \n",
        "    def size(self):\n",
        "        return len(self.elements)\n",
        "\n",
        "class Node:\n",
        "    def __init__(self,data):\n",
        "        self.data = data\n",
        "        self.children = []\n",
        "    \n",
        "def bfs(root):\n",
        "    if root is None:\n",
        "        return []\n",
        "    q = Queue()\n",
        "    q.enqueue(root)\n",
        "    ans = []\n",
        "    while not q.is_empty():\n",
        "        n = q.size()\n",
        "        v = []\n",
        "        for i in range(0, n):\n",
        "            temp = q.front()\n",
        "            q.dequeue()\n",
        "            for i in temp.children:\n",
        "                q.enqueue(i)\n",
        "            v.append(temp.data)\n",
        "        ans.append(v)\n",
        "    return list(ans)\n",
        "\n",
        "def take_input():\n",
        "    print(\"Data:\", end = ' ')\n",
        "    data = input()\n",
        "    if data == - 1:\n",
        "        return None\n",
        "    temp = Node(data)\n",
        "    print(\"Enter the number of children of \", end = '')\n",
        "    print(data, end = '')\n",
        "    print(\" : \", end = '')\n",
        "    n = int(input())\n",
        "    for i in range(0, n):\n",
        "        print(\"Enter \", end = '')\n",
        "        print(i+1, end = '')\n",
        "        print(\"th child of \", end = '')\n",
        "        print(data, end = '')\n",
        "        print(\"\\n\", end = '')\n",
        "        child = take_input()\n",
        "        temp.children.append(child)\n",
        "    return temp"
      ],
      "metadata": {
        "id": "Ck41pRkF6gbb"
      },
      "execution_count": 4,
      "outputs": []
    },
    {
      "cell_type": "code",
      "source": [
        "root = take_input()\n",
        "ans = bfs(root)\n",
        "i = 0\n",
        "while i < len(ans):\n",
        "    j = 0\n",
        "    while j < len(ans[i]):\n",
        "        print(ans[i][j], end = '')\n",
        "        print(\" \", end = '')\n",
        "        j += 1\n",
        "    i += 1"
      ],
      "metadata": {
        "colab": {
          "base_uri": "https://localhost:8080/"
        },
        "id": "q8e1rIZL6iUX",
        "outputId": "fbaabc72-c250-4b4f-bcf2-06a0effbe004"
      },
      "execution_count": 5,
      "outputs": [
        {
          "output_type": "stream",
          "name": "stdout",
          "text": [
            "Data: 5\n",
            "Enter the number of children of 5 : 3\n",
            "Enter 1th child of 5\n",
            "Data: 1\n",
            "Enter the number of children of 1 : 1\n",
            "Enter 1th child of 1\n",
            "Data: 3\n",
            "Enter the number of children of 3 : 0\n",
            "Enter 2th child of 5\n",
            "Data: 2\n",
            "Enter the number of children of 2 : 2\n",
            "Enter 1th child of 2\n",
            "Data: 6\n",
            "Enter the number of children of 6 : 0\n",
            "Enter 2th child of 2\n",
            "Data: 7\n",
            "Enter the number of children of 7 : 0\n",
            "Enter 3th child of 5\n",
            "Data: 3\n",
            "Enter the number of children of 3 : 3\n",
            "Enter 1th child of 3\n",
            "Data: 7\n",
            "Enter the number of children of 7 : 0\n",
            "Enter 2th child of 3\n",
            "Data: 8\n",
            "Enter the number of children of 8 : 0\n",
            "Enter 3th child of 3\n",
            "Data: 9\n",
            "Enter the number of children of 9 : 0\n",
            "5 1 2 3 3 6 7 7 8 9 "
          ]
        }
      ]
    },
    {
      "cell_type": "markdown",
      "source": [
        "#Q3. Implement Heapsort algorithm using Minheap.\n",
        "This must include building the heap as well as using it to sort an input array.\n",
        "\n",
        "The heapsort need not be done in-place."
      ],
      "metadata": {
        "id": "4DbmaEUS-BN2"
      }
    },
    {
      "cell_type": "code",
      "source": [
        "def min_heap(array, n, i):\n",
        "    smallest = i\n",
        "    l = 2 * i + 1\n",
        "    r = 2 * i + 2\n",
        "    if l < n and array[l] < array[smallest]:\n",
        "        smallest = l\n",
        "    if r < n and array[r] < array[smallest]:\n",
        "        smallest = r\n",
        "    if smallest != i:\n",
        "        (array[i],\n",
        "         array[smallest]) = (array[smallest], array[i])\n",
        "        min_heap(array, n, smallest)\n",
        "\n",
        "def heapSort(array):\n",
        "    n = len(array)\n",
        "    for i in range(int(n / 2) - 1, -1, -1):\n",
        "        min_heap(array, n, i)\n",
        "    for i in range(n-1, -1, -1):\n",
        "        array[0], array[i] = array[i], array[0]\n",
        "        min_heap(array, i, 0)\n",
        "    return array"
      ],
      "metadata": {
        "id": "ZJh0vASTtCTR"
      },
      "execution_count": 18,
      "outputs": []
    },
    {
      "cell_type": "code",
      "source": [
        "arr = [5,3,10]\n",
        "print(\"Array before MinHeap is: \", arr)\n",
        "print(\"Heap Sort using MinHeap is: \", heapSort(arr))"
      ],
      "metadata": {
        "colab": {
          "base_uri": "https://localhost:8080/"
        },
        "id": "MVynMnSftVsT",
        "outputId": "830545a7-1d08-4bde-b997-71bc10107404"
      },
      "execution_count": 19,
      "outputs": [
        {
          "output_type": "stream",
          "name": "stdout",
          "text": [
            "Array before MinHeap is:  [5, 3, 10]\n",
            "Heap Sort using MinHeap is:  [10, 5, 3]\n"
          ]
        }
      ]
    },
    {
      "cell_type": "markdown",
      "source": [
        "#Q4. Implement Binary Search Tree with the following operations:\n",
        "\n",
        "*   insert\n",
        "*   remove\n",
        "*  find minimum ##### You may implement other methods to support the ones mentioned above."
      ],
      "metadata": {
        "id": "l477gxh3-Ixd"
      }
    },
    {
      "cell_type": "code",
      "source": [
        "class Node:\n",
        "    def __init__(self, data):\n",
        "        self.data = data\n",
        "        self.left = None\n",
        "        self.right = None\n",
        "\n",
        "def inorder(root):\n",
        "    stack = []\n",
        "    while True:\n",
        "        if root != None:\n",
        "            stack.append(root)\n",
        "            root = root.left\n",
        "        elif stack:\n",
        "            root = stack.pop()\n",
        "            print(root.data, end = \" \")\n",
        "            root = root.right\n",
        "        else:\n",
        "            break\n",
        "\n",
        "def insert(node, data):\n",
        "    if node is None:\n",
        "        return Node(data)\n",
        "    if data < node.data:\n",
        "        node.left = insert(node.left, data)\n",
        "    else:\n",
        "        node.right = insert(node.right, data)\n",
        "    return node\n",
        "\n",
        "def min_node(node):\n",
        "    current = node\n",
        "    while(current.left is not None):\n",
        "        current = current.left\n",
        "    return current\n",
        "\n",
        "def deleteNode(root, data):\n",
        "    if root is None:\n",
        "        return root\n",
        "    if data < root.data:\n",
        "        root.left = deleteNode(root.left, data)\n",
        "    elif(data > root.data):\n",
        "        root.right = deleteNode(root.right, data)\n",
        "    else:\n",
        "        if root.left is None:\n",
        "            temp = root.right\n",
        "            root = None\n",
        "            return temp\n",
        "        elif root.right is None:\n",
        "            temp = root.left\n",
        "            root = None\n",
        "            return temp\n",
        "        temp = min_node(root.right)\n",
        "        root.data = temp.data\n",
        "        root.right = deleteNode(root.right, temp.data)\n",
        "    return root\n",
        "\n",
        "def min_value(node):\n",
        "    current = node\n",
        "    while(current.left is not None):\n",
        "        current = current.left\n",
        "    return current.data"
      ],
      "metadata": {
        "id": "3Zr6dH3r21Qy"
      },
      "execution_count": 20,
      "outputs": []
    },
    {
      "cell_type": "code",
      "source": [
        "r = None\n",
        "r = insert(r, 8)\n",
        "r = insert(r, 3)\n",
        "r = insert(r, 1)\n",
        "r = insert(r, 6)\n",
        "r = insert(r, 7)\n",
        "r = insert(r, 10)\n",
        "r = insert(r, 14)\n",
        "r = insert(r, 4)\n",
        "\n",
        "print(\"Inorder traversal: \", end=' ')\n",
        "inorder(r)\n",
        "print(\"\\nDeleting 10\")\n",
        "r = deleteNode(r, 10)\n",
        "print(\"Inorder traversal: \", end=' ')\n",
        "inorder(r)\n",
        "print(\"\\nMinimum value is: \", min_value(r))"
      ],
      "metadata": {
        "colab": {
          "base_uri": "https://localhost:8080/"
        },
        "id": "VVX8r-4vlUD8",
        "outputId": "744f2dd4-e37b-41a4-83d7-d2d480dbc586"
      },
      "execution_count": 21,
      "outputs": [
        {
          "output_type": "stream",
          "name": "stdout",
          "text": [
            "Inorder traversal:  1 3 4 6 7 8 10 14 \n",
            "Deleting 10\n",
            "Inorder traversal:  1 3 4 6 7 8 14 \n",
            "Minimum value is:  1\n"
          ]
        }
      ]
    }
  ]
}